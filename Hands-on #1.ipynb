{
 "cells": [
  {
   "cell_type": "code",
   "execution_count": 136,
   "metadata": {},
   "outputs": [],
   "source": [
    "import random\n",
    "import numpy as np\n",
    "import pandas as pd\n",
    "from deap import base\n",
    "from deap import creator\n",
    "from deap import tools,algorithms"
   ]
  },
  {
   "cell_type": "code",
   "execution_count": 137,
   "metadata": {},
   "outputs": [],
   "source": [
    "creator.create(\"FitnessMax\", base.Fitness, weights=(1.0,))\n",
    "creator.create(\"Individual\", list, fitness=creator.FitnessMax)"
   ]
  },
  {
   "cell_type": "code",
   "execution_count": 138,
   "metadata": {},
   "outputs": [],
   "source": [
    "toolbox = base.Toolbox()\n",
    "toolbox.register(\"attr_float\", random.random)\n",
    "toolbox.register(\"individual\", tools.initRepeat, creator.Individual,toolbox.attr_float, n=IND_SIZE)\n",
    "toolbox.register(\"population\", tools.initRepeat, list, toolbox.individual)"
   ]
  },
  {
   "cell_type": "code",
   "execution_count": 139,
   "metadata": {},
   "outputs": [],
   "source": [
    "#!/usr/bin/env python3\n",
    "# -*- coding: utf-8 -*-\n",
    "# Imports\n",
    "import numpy as np \n",
    "\n",
    "from sklearn import metrics\n",
    "dataset=pd.read_csv(\"circles500.csv\")\n",
    "X=pd.DataFrame(dataset)\n",
    "Y=X[\"Class\"]\n",
    "del X[\"Class\"]\n",
    "X=X.values\n",
    "y=Y.values\n",
    "\n",
    "# Define useful functions    \n",
    "\n",
    "# Activation function\n",
    "def sigmoid(t):\n",
    "    return 1/(1+np.exp(-t))\n",
    "\n",
    "def chunks(lst, n):\n",
    "    return [lst[i:i + n] for i in range(0, len(lst), n)]\n",
    "\n",
    "def network_config(ind):\n",
    "    weight_hidden=(np.asarray(chunks(ind[:10],5)))\n",
    "    weight_output=(np.asarray(chunks(ind[10:15],1)))\n",
    "    bias_hidden=np.asarray(ind[15:20])\n",
    "    bias_weight=np.asarray(ind[20])\n",
    "    network_config={\n",
    "        \"W1\":weight_hidden,\n",
    "        \"W2\":weight_output,\n",
    "        \"b1\":bias_hidden,\n",
    "        \"b2\":bias_weight\n",
    "    }\n",
    "    return network_config\n",
    "\n",
    "# Class definition\n",
    "class NeuralNetwork:\n",
    "    def __init__(self, x,y,network_config):\n",
    "        self.input = x\n",
    "        self.weights1= network_config[\"W1\"] # considering we have 4 nodes in the hidden layer\n",
    "        self.weights2 = network_config[\"W2\"]\n",
    "        self.bias1=network_config[\"b1\"]\n",
    "        self.bias2=network_config[\"b2\"]\n",
    "        self.y = y\n",
    "        self.output = np. zeros(y.shape)\n",
    "        \n",
    "    def feedforward(self):\n",
    "        self.layer1 = sigmoid(np.dot(self.input, self.weights1))\n",
    "        self.layer2 = sigmoid(np.dot(self.layer1, self.weights2))\n",
    "        return self.layer2\n",
    "\n",
    "    def train(self, X, y):\n",
    "        self.output = self.feedforward()\n",
    "        \n",
    "    def predict(self):\n",
    "        Ypred=[]\n",
    "        Yhat=self.feedforward()\n",
    "        for y in Yhat:\n",
    "            if y<0.5:\n",
    "                Ypred.append([0])\n",
    "            else:Ypred.append([1])\n",
    "        return np.asarray(Ypred)"
   ]
  },
  {
   "cell_type": "code",
   "execution_count": 140,
   "metadata": {},
   "outputs": [],
   "source": [
    "def evalOneMax(individual):\n",
    "    config=network_config(individual)    \n",
    "    NN = NeuralNetwork(X,y,config)\n",
    "    pred=NN.predict()\n",
    "    from sklearn import metrics\n",
    "    return (metrics.accuracy_score(y,np.asarray(pred).flatten()),)"
   ]
  },
  {
   "cell_type": "code",
   "execution_count": 141,
   "metadata": {},
   "outputs": [],
   "source": [
    "toolbox.register(\"evaluate\", evalOneMax)\n",
    "toolbox.register(\"mate\", tools.cxTwoPoint)\n",
    "toolbox.register(\"mutate\", tools.mutGaussian, mu=0, sigma=1, indpb=0.2)\n",
    "toolbox.register(\"select\", tools.selTournament, tournsize=3)"
   ]
  },
  {
   "cell_type": "code",
   "execution_count": 142,
   "metadata": {},
   "outputs": [],
   "source": [
    "import numpy\n",
    "def main():\n",
    "    pop = toolbox.population(n=500)\n",
    "    #print(pop)\n",
    "    fitnesses = list(map(toolbox.evaluate, pop))\n",
    "    print(fitnesses)\n",
    "    print(len(fitnesses))\n",
    "    for ind, fit in zip(pop, fitnesses):\n",
    "        ind.fitness.values = fit\n",
    "    CXPB, MUTPB = 0.5, 0.4\n",
    "    lambda_,mu=100,50\n",
    "    stats = tools.Statistics(lambda ind: ind.fitness.values)\n",
    "    stats.register(\"avg\", numpy.mean)\n",
    "    stats.register(\"min\", numpy.min)\n",
    "    stats.register(\"max\", numpy.max)\n",
    "    pop_simple, logbook_simple = algorithms.eaSimple(pop, toolbox, cxpb=CXPB, mutpb=MUTPB, ngen=100,stats=stats,verbose=False)\n",
    "    pop, logbook = algorithms.eaMuCommaLambda(pop, toolbox, mu, lambda_, cxpb=CXPB, mutpb=MUTPB, ngen=100,stats=stats,verbose=False)\n",
    "    return(pop_simple, logbook_simple,pop, logbook)"
   ]
  },
  {
   "cell_type": "code",
   "execution_count": null,
   "metadata": {},
   "outputs": [],
   "source": []
  },
  {
   "cell_type": "code",
   "execution_count": 143,
   "metadata": {},
   "outputs": [
    {
     "name": "stdout",
     "output_type": "stream",
     "text": [
      "[(0.5,), (0.5,), (0.5,), (0.5,), (0.5,), (0.5,), (0.5,), (0.5,), (0.5,), (0.5,), (0.5,), (0.5,), (0.5,), (0.5,), (0.5,), (0.5,), (0.5,), (0.5,), (0.5,), (0.5,), (0.5,), (0.5,), (0.5,), (0.5,), (0.5,), (0.5,), (0.5,), (0.5,), (0.5,), (0.5,), (0.5,), (0.5,), (0.5,), (0.5,), (0.5,), (0.5,), (0.5,), (0.5,), (0.5,), (0.5,), (0.5,), (0.5,), (0.5,), (0.5,), (0.5,), (0.5,), (0.5,), (0.5,), (0.5,), (0.5,), (0.5,), (0.5,), (0.5,), (0.5,), (0.5,), (0.5,), (0.5,), (0.5,), (0.5,), (0.5,), (0.5,), (0.5,), (0.5,), (0.5,), (0.5,), (0.5,), (0.5,), (0.5,), (0.5,), (0.5,), (0.5,), (0.5,), (0.5,), (0.5,), (0.5,), (0.5,), (0.5,), (0.5,), (0.5,), (0.5,), (0.5,), (0.5,), (0.5,), (0.5,), (0.5,), (0.5,), (0.5,), (0.5,), (0.5,), (0.5,), (0.5,), (0.5,), (0.5,), (0.5,), (0.5,), (0.5,), (0.5,), (0.5,), (0.5,), (0.5,), (0.5,), (0.5,), (0.5,), (0.5,), (0.5,), (0.5,), (0.5,), (0.5,), (0.5,), (0.5,), (0.5,), (0.5,), (0.5,), (0.5,), (0.5,), (0.5,), (0.5,), (0.5,), (0.5,), (0.5,), (0.5,), (0.5,), (0.5,), (0.5,), (0.5,), (0.5,), (0.5,), (0.5,), (0.5,), (0.5,), (0.5,), (0.5,), (0.5,), (0.5,), (0.5,), (0.5,), (0.5,), (0.5,), (0.5,), (0.5,), (0.5,), (0.5,), (0.5,), (0.5,), (0.5,), (0.5,), (0.5,), (0.5,), (0.5,), (0.5,), (0.5,), (0.5,), (0.5,), (0.5,), (0.5,), (0.5,), (0.5,), (0.5,), (0.5,), (0.5,), (0.5,), (0.5,), (0.5,), (0.5,), (0.5,), (0.5,), (0.5,), (0.5,), (0.5,), (0.5,), (0.5,), (0.5,), (0.5,), (0.5,), (0.5,), (0.5,), (0.5,), (0.5,), (0.5,), (0.5,), (0.5,), (0.5,), (0.5,), (0.5,), (0.5,), (0.5,), (0.5,), (0.5,), (0.5,), (0.5,), (0.5,), (0.5,), (0.5,), (0.5,), (0.5,), (0.5,), (0.5,), (0.5,), (0.5,), (0.5,), (0.5,), (0.5,), (0.5,), (0.5,), (0.5,), (0.5,), (0.5,), (0.5,), (0.5,), (0.5,), (0.5,), (0.5,), (0.5,), (0.5,), (0.5,), (0.5,), (0.5,), (0.5,), (0.5,), (0.5,), (0.5,), (0.5,), (0.5,), (0.5,), (0.5,), (0.5,), (0.5,), (0.5,), (0.5,), (0.5,), (0.5,), (0.5,), (0.5,), (0.5,), (0.5,), (0.5,), (0.5,), (0.5,), (0.5,), (0.5,), (0.5,), (0.5,), (0.5,), (0.5,), (0.5,), (0.5,), (0.5,), (0.5,), (0.5,), (0.5,), (0.5,), (0.5,), (0.5,), (0.5,), (0.5,), (0.5,), (0.5,), (0.5,), (0.5,), (0.5,), (0.5,), (0.5,), (0.5,), (0.5,), (0.5,), (0.5,), (0.5,), (0.5,), (0.5,), (0.5,), (0.5,), (0.5,), (0.5,), (0.5,), (0.5,), (0.5,), (0.5,), (0.5,), (0.5,), (0.5,), (0.5,), (0.5,), (0.5,), (0.5,), (0.5,), (0.5,), (0.5,), (0.5,), (0.5,), (0.5,), (0.5,), (0.5,), (0.5,), (0.5,), (0.5,), (0.5,), (0.5,), (0.5,), (0.5,), (0.5,), (0.5,), (0.5,), (0.5,), (0.5,), (0.5,), (0.5,), (0.5,), (0.5,), (0.5,), (0.5,), (0.5,), (0.5,), (0.5,), (0.5,), (0.5,), (0.5,), (0.5,), (0.5,), (0.5,), (0.5,), (0.5,), (0.5,), (0.5,), (0.5,), (0.5,), (0.5,), (0.5,), (0.5,), (0.5,), (0.5,), (0.5,), (0.5,), (0.5,), (0.5,), (0.5,), (0.5,), (0.5,), (0.5,), (0.5,), (0.5,), (0.5,), (0.5,), (0.5,), (0.5,), (0.5,), (0.5,), (0.5,), (0.5,), (0.5,), (0.5,), (0.5,), (0.5,), (0.5,), (0.5,), (0.5,), (0.5,), (0.5,), (0.5,), (0.5,), (0.5,), (0.5,), (0.5,), (0.5,), (0.5,), (0.5,), (0.5,), (0.5,), (0.5,), (0.5,), (0.5,), (0.5,), (0.5,), (0.5,), (0.5,), (0.5,), (0.5,), (0.5,), (0.5,), (0.5,), (0.5,), (0.5,), (0.5,), (0.5,), (0.5,), (0.5,), (0.5,), (0.5,), (0.5,), (0.5,), (0.5,), (0.5,), (0.5,), (0.5,), (0.5,), (0.5,), (0.5,), (0.5,), (0.5,), (0.5,), (0.5,), (0.5,), (0.5,), (0.5,), (0.5,), (0.5,), (0.5,), (0.5,), (0.5,), (0.5,), (0.5,), (0.5,), (0.5,), (0.5,), (0.5,), (0.5,), (0.5,), (0.5,), (0.5,), (0.5,), (0.5,), (0.5,), (0.5,), (0.5,), (0.5,), (0.5,), (0.5,), (0.5,), (0.5,), (0.5,), (0.5,), (0.5,), (0.5,), (0.5,), (0.5,), (0.5,), (0.5,), (0.5,), (0.5,), (0.5,), (0.5,), (0.5,), (0.5,), (0.5,), (0.5,), (0.5,), (0.5,), (0.5,), (0.5,), (0.5,), (0.5,), (0.5,), (0.5,), (0.5,), (0.5,), (0.5,), (0.5,), (0.5,), (0.5,), (0.5,), (0.5,), (0.5,), (0.5,), (0.5,), (0.5,), (0.5,), (0.5,), (0.5,), (0.5,), (0.5,), (0.5,), (0.5,), (0.5,), (0.5,), (0.5,), (0.5,), (0.5,), (0.5,), (0.5,), (0.5,), (0.5,), (0.5,), (0.5,), (0.5,), (0.5,), (0.5,), (0.5,), (0.5,), (0.5,), (0.5,), (0.5,), (0.5,), (0.5,), (0.5,), (0.5,), (0.5,), (0.5,), (0.5,), (0.5,), (0.5,), (0.5,)]\n",
      "500\n"
     ]
    },
    {
     "data": {
      "image/png": "[encoded data removed]",
      "text/plain": [
       "<Figure size 432x288 with 1 Axes>"
      ]
     },
     "metadata": {
      "needs_background": "light"
     },
     "output_type": "display_data"
    }
   ],
   "source": [
    "if __name__ == \"__main__\":\n",
    "    pop_simple, logbook_simple,pop, logbook=main()\n",
    "    #print(pop)\n",
    "    import matplotlib.pyplot as plt\n",
    "    gen, avg, min_, max_eamu = logbook.select(\"gen\", \"avg\", \"min\", \"max\")\n",
    "    gen, avg, min_, max_simple = logbook_simple.select(\"gen\", \"avg\", \"min\", \"max\")\n",
    "    plt.plot(gen, max_simple, label=\"Simple\")\n",
    "    plt.plot(gen, max_eamu, label=\"EaMu\")\n",
    "    plt.xlabel(\"Generation\")\n",
    "    plt.ylabel(\"Fitness\")\n",
    "    plt.legend()\n",
    "    plt.show()\n"
   ]
  },
  {
   "cell_type": "code",
   "execution_count": null,
   "metadata": {},
   "outputs": [],
   "source": []
  }
 ],
 "metadata": {
  "kernelspec": {
   "display_name": "Python 3",
   "language": "python",
   "name": "python3"
  },
  "language_info": {
   "codemirror_mode": {
    "name": "ipython",
    "version": 3
   },
   "file_extension": ".py",
   "mimetype": "text/x-python",
   "name": "python",
   "nbconvert_exporter": "python",
   "pygments_lexer": "ipython3",
   "version": "3.7.6"
  }
 },
 "nbformat": 4,
 "nbformat_minor": 4
}
